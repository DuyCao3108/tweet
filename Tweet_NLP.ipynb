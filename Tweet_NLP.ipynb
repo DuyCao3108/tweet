{
  "cells": [
    {
      "cell_type": "markdown",
      "metadata": {
        "id": "view-in-github",
        "colab_type": "text"
      },
      "source": [
        "<a href=\"https://colab.research.google.com/github/DuyCao3108/tweet/blob/main/Tweet_NLP.ipynb\" target=\"_parent\"><img src=\"https://colab.research.google.com/assets/colab-badge.svg\" alt=\"Open In Colab\"/></a>"
      ]
    },
    {
      "cell_type": "markdown",
      "source": [
        "# DATA PREPROCESSING"
      ],
      "metadata": {
        "id": "L2kg3zRX-fhp"
      }
    },
    {
      "cell_type": "code",
      "source": [
        "df = pd.read_csv(r'/content/train.csv')"
      ],
      "metadata": {
        "id": "mzX1bwIy0k9H"
      },
      "execution_count": 6,
      "outputs": []
    },
    {
      "cell_type": "code",
      "source": [
        "# Download stopwords and punkt if not already downloaded\n",
        "nltk.download('stopwords')\n",
        "nltk.download('punkt')\n",
        "\n",
        "def clean_text(text):\n",
        "    # Tokenize the text\n",
        "    tokens = word_tokenize(text)\n",
        "\n",
        "    # Remove punctuation and convert to lowercase\n",
        "    table = str.maketrans('', '', string.punctuation)\n",
        "    tokens = [word.translate(table).lower() for word in tokens]\n",
        "\n",
        "    # Remove stopwords\n",
        "    stop_words = set(stopwords.words('english'))\n",
        "    tokens = [word for word in tokens if word not in stop_words]\n",
        "\n",
        "    # Rejoin the tokens to form cleaned text\n",
        "    cleaned_text = ' '.join(tokens)\n",
        "\n",
        "    return cleaned_text\n",
        "\n",
        "# Use clean_text function on every sentence in text column\n",
        "df.text = df.text.apply(clean_text)"
      ],
      "metadata": {
        "id": "GAQIsc4P-kEW",
        "colab": {
          "base_uri": "https://localhost:8080/"
        },
        "outputId": "a35dd349-ddbb-4bcf-efd9-613a2e123e27"
      },
      "execution_count": 7,
      "outputs": [
        {
          "output_type": "stream",
          "name": "stderr",
          "text": [
            "[nltk_data] Downloading package stopwords to /root/nltk_data...\n",
            "[nltk_data]   Unzipping corpora/stopwords.zip.\n",
            "[nltk_data] Downloading package punkt to /root/nltk_data...\n",
            "[nltk_data]   Unzipping tokenizers/punkt.zip.\n"
          ]
        }
      ]
    },
    {
      "cell_type": "markdown",
      "source": [
        "# LSTM"
      ],
      "metadata": {
        "id": "Pnl6KH640csv"
      }
    },
    {
      "cell_type": "code",
      "source": [
        "model = tf.keras.Sequential([\n",
        "    input = tf.keras.Input(shape=()),\n",
        "    Embed = tf.keras.layers.Embedding()\n",
        "])"
      ],
      "metadata": {
        "id": "ECKVRPRf0h1E"
      },
      "execution_count": null,
      "outputs": []
    },
    {
      "cell_type": "markdown",
      "metadata": {
        "id": "I7qPziKrvtgB"
      },
      "source": [
        "# BERT"
      ]
    },
    {
      "cell_type": "code",
      "source": [
        "# !git clone --depth 1 -b v2.3.0 https://github.com/tensorflow/models.git\n",
        "# !pip install -Uqr models/official/requirements.txt"
      ],
      "metadata": {
        "id": "NeIx0YHCxgQD",
        "colab": {
          "base_uri": "https://localhost:8080/"
        },
        "outputId": "4531fb98-a5e9-4e50-f87d-ad192594386d"
      },
      "execution_count": 3,
      "outputs": [
        {
          "output_type": "stream",
          "name": "stdout",
          "text": [
            "Cloning into 'models'...\n",
            "remote: Enumerating objects: 2650, done.\u001b[K\n",
            "remote: Counting objects: 100% (2650/2650), done.\u001b[K\n",
            "remote: Compressing objects: 100% (2311/2311), done.\u001b[K\n",
            "remote: Total 2650 (delta 505), reused 1389 (delta 306), pack-reused 0\u001b[K\n",
            "Receiving objects: 100% (2650/2650), 34.02 MiB | 11.03 MiB/s, done.\n",
            "Resolving deltas: 100% (505/505), done.\n",
            "Note: switching to '400d68abbccda2f0f6609e3a924467718b144233'.\n",
            "\n",
            "You are in 'detached HEAD' state. You can look around, make experimental\n",
            "changes and commit them, and you can discard any commits you make in this\n",
            "state without impacting any branches by switching back to a branch.\n",
            "\n",
            "If you want to create a new branch to retain commits you create, you may\n",
            "do so (now or later) by using -c with the switch command. Example:\n",
            "\n",
            "  git switch -c <new-branch-name>\n",
            "\n",
            "Or undo this operation with:\n",
            "\n",
            "  git switch -\n",
            "\n",
            "Turn off this advice by setting config variable advice.detachedHead to false\n",
            "\n",
            "  Preparing metadata (setup.py) ... \u001b[?25l\u001b[?25hdone\n",
            "\u001b[2K     \u001b[90m━━━━━━━━━━━━━━━━━━━━━━━━━━━━━━━━━━━━━━━━\u001b[0m \u001b[32m12.3/12.3 MB\u001b[0m \u001b[31m49.2 MB/s\u001b[0m eta \u001b[36m0:00:00\u001b[0m\n",
            "\u001b[2K     \u001b[90m━━━━━━━━━━━━━━━━━━━━━━━━━━━━━━━━━━━━━━\u001b[0m \u001b[32m219.6/219.6 kB\u001b[0m \u001b[31m26.5 MB/s\u001b[0m eta \u001b[36m0:00:00\u001b[0m\n",
            "\u001b[2K     \u001b[90m━━━━━━━━━━━━━━━━━━━━━━━━━━━━━━━━━━━━━━━━\u001b[0m \u001b[32m18.2/18.2 MB\u001b[0m \u001b[31m82.7 MB/s\u001b[0m eta \u001b[36m0:00:00\u001b[0m\n",
            "\u001b[2K     \u001b[90m━━━━━━━━━━━━━━━━━━━━━━━━━━━━━━━━━━━━━━━\u001b[0m \u001b[32m12.3/12.3 MB\u001b[0m \u001b[31m108.4 MB/s\u001b[0m eta \u001b[36m0:00:00\u001b[0m\n",
            "\u001b[2K     \u001b[90m━━━━━━━━━━━━━━━━━━━━━━━━━━━━━━━━━━━━━━━━\u001b[0m \u001b[32m36.4/36.4 MB\u001b[0m \u001b[31m13.4 MB/s\u001b[0m eta \u001b[36m0:00:00\u001b[0m\n",
            "\u001b[2K     \u001b[90m━━━━━━━━━━━━━━━━━━━━━━━━━━━━━━━━━━━━━━\u001b[0m \u001b[32m241.2/241.2 kB\u001b[0m \u001b[31m29.6 MB/s\u001b[0m eta \u001b[36m0:00:00\u001b[0m\n",
            "\u001b[2K     \u001b[90m━━━━━━━━━━━━━━━━━━━━━━━━━━━━━━━━━━━━━━━━\u001b[0m \u001b[32m5.0/5.0 MB\u001b[0m \u001b[31m107.6 MB/s\u001b[0m eta \u001b[36m0:00:00\u001b[0m\n",
            "\u001b[2K     \u001b[90m━━━━━━━━━━━━━━━━━━━━━━━━━━━━━━━━━━━━━━\u001b[0m \u001b[32m612.1/612.1 kB\u001b[0m \u001b[31m43.9 MB/s\u001b[0m eta \u001b[36m0:00:00\u001b[0m\n",
            "\u001b[2K     \u001b[90m━━━━━━━━━━━━━━━━━━━━━━━━━━━━━━━━━━━━━━━━\u001b[0m \u001b[32m1.3/1.3 MB\u001b[0m \u001b[31m77.6 MB/s\u001b[0m eta \u001b[36m0:00:00\u001b[0m\n",
            "\u001b[2K     \u001b[90m━━━━━━━━━━━━━━━━━━━━━━━━━━━━━━━━━━━━━━━━\u001b[0m \u001b[32m11.6/11.6 MB\u001b[0m \u001b[31m69.1 MB/s\u001b[0m eta \u001b[36m0:00:00\u001b[0m\n",
            "\u001b[2K     \u001b[90m━━━━━━━━━━━━━━━━━━━━━━━━━━━━━━━━━━━━━━━━\u001b[0m \u001b[32m49.1/49.1 MB\u001b[0m \u001b[31m11.4 MB/s\u001b[0m eta \u001b[36m0:00:00\u001b[0m\n",
            "\u001b[2K     \u001b[90m━━━━━━━━━━━━━━━━━━━━━━━━━━━━━━━━━━━━━━━━\u001b[0m \u001b[32m3.6/3.6 MB\u001b[0m \u001b[31m61.4 MB/s\u001b[0m eta \u001b[36m0:00:00\u001b[0m\n",
            "\u001b[2K     \u001b[90m━━━━━━━━━━━━━━━━━━━━━━━━━━━━━━━━━━━━━━\u001b[0m \u001b[32m341.8/341.8 kB\u001b[0m \u001b[31m26.5 MB/s\u001b[0m eta \u001b[36m0:00:00\u001b[0m\n",
            "\u001b[2K     \u001b[90m━━━━━━━━━━━━━━━━━━━━━━━━━━━━━━━━━━━━━━\u001b[0m \u001b[32m311.6/311.6 kB\u001b[0m \u001b[31m27.3 MB/s\u001b[0m eta \u001b[36m0:00:00\u001b[0m\n",
            "\u001b[2K     \u001b[90m━━━━━━━━━━━━━━━━━━━━━━━━━━━━━━━━━━━━━━━━\u001b[0m \u001b[32m1.1/1.1 MB\u001b[0m \u001b[31m41.8 MB/s\u001b[0m eta \u001b[36m0:00:00\u001b[0m\n",
            "\u001b[?25h\u001b[31mERROR: pip's dependency resolver does not currently take into account all the packages that are installed. This behaviour is the source of the following dependency conflicts.\n",
            "cupy-cuda11x 11.0.0 requires numpy<1.26,>=1.20, but you have numpy 1.26.0 which is incompatible.\n",
            "google-colab 1.0.0 requires pandas==1.5.3, but you have pandas 2.1.1 which is incompatible.\n",
            "numba 0.56.4 requires numpy<1.24,>=1.18, but you have numpy 1.26.0 which is incompatible.\n",
            "tensorflow 2.11.1 requires protobuf<3.20,>=3.9.2, but you have protobuf 3.20.3 which is incompatible.\u001b[0m\u001b[31m\n",
            "\u001b[0m"
          ]
        }
      ]
    },
    {
      "cell_type": "code",
      "source": [
        "import numpy as np\n",
        "import tensorflow as tf\n",
        "import tensorflow_hub as hub\n",
        "# these functions are used to get desired input format for Bert\n",
        "import sys\n",
        "sys.path.append('models')\n",
        "from official.nlp.data import classifier_data_lib\n",
        "from official.nlp.bert import tokenization\n",
        "from official.nlp import optimization"
      ],
      "metadata": {
        "colab": {
          "base_uri": "https://localhost:8080/"
        },
        "id": "QjqCOjWuxvIP",
        "outputId": "22ccc840-bd66-4bf1-c362-f726f5cf7fe4"
      },
      "execution_count": 2,
      "outputs": [
        {
          "output_type": "stream",
          "name": "stderr",
          "text": [
            "/usr/local/lib/python3.10/dist-packages/tensorflow_addons/utils/tfa_eol_msg.py:23: UserWarning: \n",
            "\n",
            "TensorFlow Addons (TFA) has ended development and introduction of new features.\n",
            "TFA has entered a minimal maintenance and release mode until a planned end of life in May 2024.\n",
            "Please modify downstream libraries to take dependencies from other repositories in our TensorFlow community (e.g. Keras, Keras-CV, and Keras-NLP). \n",
            "\n",
            "For more information see: https://github.com/tensorflow/addons/issues/2807 \n",
            "\n",
            "  warnings.warn(\n"
          ]
        }
      ]
    },
    {
      "cell_type": "code",
      "source": [
        "import pandas as pd\n",
        "import os\n",
        "import nltk\n",
        "import string\n",
        "# these functions are used for text cleaning\n",
        "from nltk.corpus import stopwords\n",
        "from nltk.tokenize import word_tokenize\n",
        "from sklearn.model_selection import train_test_split"
      ],
      "metadata": {
        "id": "va33y3w5yEeO"
      },
      "execution_count": 3,
      "outputs": []
    },
    {
      "cell_type": "code",
      "execution_count": 5,
      "metadata": {
        "id": "D6T4M4D7vtgE"
      },
      "outputs": [],
      "source": [
        "df = pd.read_csv(r'/content/train.csv')"
      ]
    },
    {
      "cell_type": "markdown",
      "metadata": {
        "id": "5iVvWB5XvtgE"
      },
      "source": [
        "## Input preparation for Bert layer"
      ]
    },
    {
      "cell_type": "code",
      "execution_count": 53,
      "metadata": {
        "id": "r1kqgedcvtgF"
      },
      "outputs": [],
      "source": [
        "train_df, valid_df = train_test_split(df, test_size = 0.10)"
      ]
    },
    {
      "cell_type": "code",
      "execution_count": 54,
      "metadata": {
        "id": "nGOCqvmCvtgF"
      },
      "outputs": [],
      "source": [
        "train_data = tf.data.Dataset.from_tensor_slices((train_df.text.values,train_df.target.values))\n",
        "valid_data = tf.data.Dataset.from_tensor_slices((valid_df.text.values,valid_df.target.values))"
      ]
    },
    {
      "cell_type": "code",
      "execution_count": 44,
      "metadata": {
        "id": "z5rMZ_pgvtgF"
      },
      "outputs": [],
      "source": [
        "label_list = [0,1]\n",
        "max_seq_length = 50\n",
        "bert_layer = hub.KerasLayer('https://tfhub.dev/tensorflow/bert_en_uncased_L-12_H-768_A-12/2', trainable = False)\n",
        "vocab_file = bert_layer.resolved_object.vocab_file.asset_path.numpy()\n",
        "do_lower_case = bert_layer.resolved_object.do_lower_case.numpy()\n",
        "tokenizer = tokenization.FullTokenizer(vocab_file = vocab_file, do_lower_case = do_lower_case)"
      ]
    },
    {
      "cell_type": "code",
      "execution_count": 43,
      "metadata": {
        "id": "TTlXELpOvtgF"
      },
      "outputs": [],
      "source": [
        "# This provides a function to convert row to input features and label\n",
        "def to_feature(text, label, label_list = label_list, max_seq_length = max_seq_length, tokenizer= tokenizer):\n",
        "    example = classifier_data_lib.InputExample(\n",
        "        guid = None,\n",
        "        text_a = text.numpy(),\n",
        "        text_b =None,\n",
        "        label = label.numpy()\n",
        "    )\n",
        "    feature = classifier_data_lib.convert_single_example(\n",
        "        0,\n",
        "        example,\n",
        "        label_list,\n",
        "        max_seq_length,\n",
        "        tokenizer\n",
        "    )\n",
        "    return (feature.input_ids, feature.input_mask, feature.segment_ids, feature.label_id)\n"
      ]
    },
    {
      "cell_type": "code",
      "execution_count": 45,
      "metadata": {
        "id": "4KmtmQ3UvtgG"
      },
      "outputs": [],
      "source": [
        "def to_feature_map(text, label):\n",
        "\n",
        "    input_ids, input_mask, segment_ids, label_id = tf.py_function(\n",
        "        to_feature,\n",
        "        inp = [text,label],\n",
        "        Tout = [tf.int32,tf.int32, tf.int32, tf.int32 ]\n",
        "    )\n",
        "\n",
        "    input_ids.set_shape([max_seq_length])\n",
        "    input_mask.set_shape([max_seq_length])\n",
        "    segment_ids.set_shape([max_seq_length])\n",
        "    label_id.set_shape([])\n",
        "\n",
        "    x = {\n",
        "        'input_word_ids': input_ids,\n",
        "        \"input_mask\": input_mask,\n",
        "        \"input_type_ids\": segment_ids\n",
        "    }\n",
        "\n",
        "    return (x, label_id)\n"
      ]
    },
    {
      "cell_type": "code",
      "execution_count": 14,
      "metadata": {
        "id": "mPEFNWv2vtgG"
      },
      "outputs": [],
      "source": [
        "# train\n",
        "train_data = (\n",
        "    train_data.map(to_feature_map,\n",
        "                   num_parallel_calls = tf.data.experimental.AUTOTUNE)\n",
        "    .shuffle(1000)\n",
        "    .batch(32,drop_remainder = True)\n",
        "    .prefetch(tf.data.experimental.AUTOTUNE)\n",
        "  )\n",
        "\n",
        "# valid\n",
        "valid_data = (valid_data.map(to_feature_map,\n",
        "                               num_parallel_calls = tf.data.experimental.AUTOTUNE)\n",
        ".batch(32, drop_remainder = True)\n",
        ".prefetch(tf.data.experimental.AUTOTUNE)\n",
        ")"
      ]
    },
    {
      "cell_type": "markdown",
      "metadata": {
        "id": "JJ60m1C8vtgG"
      },
      "source": [
        "## Building model"
      ]
    },
    {
      "cell_type": "code",
      "execution_count": 15,
      "metadata": {
        "id": "SYHqem4rvtgG"
      },
      "outputs": [],
      "source": [
        "def get_model():\n",
        "    # define input\n",
        "    input_word_ids = tf.keras.layers.Input(shape =(max_seq_length,),dtype = tf.int32,\n",
        "                                           name='input_word_ids')\n",
        "    input_mask = tf.keras.layers.Input(shape =(max_seq_length,),dtype = tf.int32,\n",
        "                                           name='input_mask')\n",
        "    input_type_ids = tf.keras.layers.Input(shape =(max_seq_length,),dtype = tf.int32,\n",
        "                                           name='input_type_ids')\n",
        "    # pass input through bert layer\n",
        "    pooled_output, sequence_output = bert_layer([input_word_ids, input_mask, input_type_ids])\n",
        "    # use pooled output to pass through some dense layers\n",
        "    drop = tf.keras.layers.Dropout(0.4)(pooled_output)\n",
        "    dense_1 = tf.keras.layers.Dense(units = 200)(drop)\n",
        "    dense_2 = tf.keras.layers.Dense(units = 100)(dense_1)\n",
        "    dense_3 = tf.keras.layers.Dense(units = 20)(dense_2)\n",
        "    # last layer will has sigmoid activation\n",
        "    output = tf.keras.layers.Dense(1,activation = 'sigmoid', name = \"output\")(dense_3)\n",
        "    # define model\n",
        "    model = tf.keras.Model(\n",
        "        inputs ={\n",
        "            'input_word_ids': input_word_ids,\n",
        "            'input_mask': input_mask,\n",
        "            'input_type_ids': input_type_ids\n",
        "        },\n",
        "        outputs = output\n",
        "    )\n",
        "    # create check point to save model\n",
        "    checkpoint_path = os.path.join(os.getcwd(), \"cp.ckpt\")\n",
        "    cp_callback = tf.keras.callbacks.ModelCheckpoint(filepath=checkpoint_path,\n",
        "                                                    save_weights_only=True, verbose=1\n",
        "                                                    )\n",
        "    return model, cp_callback"
      ]
    },
    {
      "cell_type": "code",
      "execution_count": 16,
      "metadata": {
        "id": "xDZpFr1avtgG",
        "colab": {
          "base_uri": "https://localhost:8080/"
        },
        "outputId": "d4409fa3-6388-4cef-b3eb-008b24e09043"
      },
      "outputs": [
        {
          "output_type": "stream",
          "name": "stderr",
          "text": [
            "WARNING:tensorflow:From /usr/local/lib/python3.10/dist-packages/tensorflow/python/autograph/pyct/static_analysis/liveness.py:83: Analyzer.lamba_check (from tensorflow.python.autograph.pyct.static_analysis.liveness) is deprecated and will be removed after 2023-09-23.\n",
            "Instructions for updating:\n",
            "Lambda fuctions will be no more assumed to be used in the statement where they are used, or at least in the same block. https://github.com/tensorflow/tensorflow/issues/56089\n"
          ]
        },
        {
          "output_type": "stream",
          "name": "stdout",
          "text": [
            "Model: \"model\"\n",
            "__________________________________________________________________________________________________\n",
            " Layer (type)                   Output Shape         Param #     Connected to                     \n",
            "==================================================================================================\n",
            " input_word_ids (InputLayer)    [(None, 50)]         0           []                               \n",
            "                                                                                                  \n",
            " input_mask (InputLayer)        [(None, 50)]         0           []                               \n",
            "                                                                                                  \n",
            " input_type_ids (InputLayer)    [(None, 50)]         0           []                               \n",
            "                                                                                                  \n",
            " keras_layer (KerasLayer)       [(None, 768),        109482241   ['input_word_ids[0][0]',         \n",
            "                                 (None, 50, 768)]                 'input_mask[0][0]',             \n",
            "                                                                  'input_type_ids[0][0]']         \n",
            "                                                                                                  \n",
            " dropout (Dropout)              (None, 768)          0           ['keras_layer[0][0]']            \n",
            "                                                                                                  \n",
            " dense (Dense)                  (None, 200)          153800      ['dropout[0][0]']                \n",
            "                                                                                                  \n",
            " dense_1 (Dense)                (None, 100)          20100       ['dense[0][0]']                  \n",
            "                                                                                                  \n",
            " dense_2 (Dense)                (None, 20)           2020        ['dense_1[0][0]']                \n",
            "                                                                                                  \n",
            " output (Dense)                 (None, 1)            21          ['dense_2[0][0]']                \n",
            "                                                                                                  \n",
            "==================================================================================================\n",
            "Total params: 109,658,182\n",
            "Trainable params: 175,941\n",
            "Non-trainable params: 109,482,241\n",
            "__________________________________________________________________________________________________\n"
          ]
        }
      ],
      "source": [
        "model, cp_callback = get_model()\n",
        "model.compile(optimizer = tf.keras.optimizers.Adam(),\n",
        "              loss = tf.keras.losses.BinaryCrossentropy(),\n",
        "              metrics = [tf.keras.metrics.BinaryAccuracy()])\n",
        "model.summary()"
      ]
    },
    {
      "cell_type": "code",
      "execution_count": 17,
      "metadata": {
        "id": "3T57-ukKvtgG",
        "colab": {
          "base_uri": "https://localhost:8080/"
        },
        "outputId": "1b98743a-aaf8-42dd-a603-3949d7bc101f"
      },
      "outputs": [
        {
          "output_type": "stream",
          "name": "stdout",
          "text": [
            "Epoch 1/4\n",
            "214/214 [==============================] - ETA: 0s - loss: 0.6637 - binary_accuracy: 0.6416\n",
            "Epoch 1: saving model to /content/cp.ckpt\n",
            "214/214 [==============================] - 46s 138ms/step - loss: 0.6637 - binary_accuracy: 0.6416 - val_loss: 0.6170 - val_binary_accuracy: 0.6481\n",
            "Epoch 2/4\n",
            "214/214 [==============================] - ETA: 0s - loss: 0.5901 - binary_accuracy: 0.6957\n",
            "Epoch 2: saving model to /content/cp.ckpt\n",
            "214/214 [==============================] - 30s 133ms/step - loss: 0.5901 - binary_accuracy: 0.6957 - val_loss: 0.5158 - val_binary_accuracy: 0.7731\n",
            "Epoch 3/4\n",
            "214/214 [==============================] - ETA: 0s - loss: 0.5824 - binary_accuracy: 0.7093\n",
            "Epoch 3: saving model to /content/cp.ckpt\n",
            "214/214 [==============================] - 31s 142ms/step - loss: 0.5824 - binary_accuracy: 0.7093 - val_loss: 0.5312 - val_binary_accuracy: 0.7364\n",
            "Epoch 4/4\n",
            "214/214 [==============================] - ETA: 0s - loss: 0.5791 - binary_accuracy: 0.7135\n",
            "Epoch 4: saving model to /content/cp.ckpt\n",
            "214/214 [==============================] - 32s 143ms/step - loss: 0.5791 - binary_accuracy: 0.7135 - val_loss: 0.5137 - val_binary_accuracy: 0.7867\n"
          ]
        }
      ],
      "source": [
        "epochs = 4\n",
        "his = model.fit(\n",
        "    train_data,\n",
        "    validation_data = valid_data,\n",
        "    epochs = epochs,\n",
        "    verbose = 1,\n",
        "    callbacks= [cp_callback]\n",
        ")"
      ]
    },
    {
      "cell_type": "markdown",
      "source": [
        "### Evaluate"
      ],
      "metadata": {
        "id": "hBCcghuICuE9"
      }
    },
    {
      "cell_type": "code",
      "source": [
        "def convert_single_string_to_input_dict(example_string_prep, vocab_file_path, max_seq_length):\n",
        "\n",
        "  #Inizialize BERT tokenizer\n",
        "  tokenizer = tokenization.FullTokenizer(vocab_file_path, do_lower_case=True)\n",
        "  token_a = tokenizer.tokenize(example_string_prep)\n",
        "\n",
        "  tokens = []\n",
        "  segments_ids = []\n",
        "  segment_ids = []\n",
        "\n",
        "  tokens.append(\"[CLS]\")\n",
        "  segment_ids.append(0)\n",
        "  for token in token_a:\n",
        "    tokens.append(token)\n",
        "    segment_ids.append(0)\n",
        "\n",
        "  tokens.append('[SEP]')\n",
        "  segment_ids.append(0)\n",
        "\n",
        "  input_ids = tokenizer.convert_tokens_to_ids(tokens)\n",
        "  input_mask = [1] * len(input_ids)\n",
        "\n",
        "  while len(input_ids) < max_seq_length:\n",
        "    input_ids.append(0)\n",
        "    input_mask.append(0)\n",
        "    segment_ids.append(0)\n",
        "\n",
        "  label_id = [0]\n",
        "  padding = [0] * max_seq_length\n",
        "\n",
        "  print(len(input_ids),len(input_mask),len(segment_ids),len(label_id))\n",
        "\n",
        "  return {\"input_ids\":[input_ids,padding], \"input_mask\":[input_mask,padding], \"segment_ids\":[segment_ids,padding], \"label_ids\":label_id}"
      ],
      "metadata": {
        "id": "oJt_xvK0iSS8"
      },
      "execution_count": 32,
      "outputs": []
    },
    {
      "cell_type": "code",
      "source": [
        "test_df = pd.read_csv(r'/content/test.csv')"
      ],
      "metadata": {
        "id": "IVd9ossEjh7V"
      },
      "execution_count": 49,
      "outputs": []
    },
    {
      "cell_type": "code",
      "source": [
        "valid_df"
      ],
      "metadata": {
        "colab": {
          "base_uri": "https://localhost:8080/",
          "height": 424
        },
        "id": "FxjfonT2nLRW",
        "outputId": "921fb472-680b-4e9f-b75b-b32e4cc8c338"
      },
      "execution_count": 55,
      "outputs": [
        {
          "output_type": "execute_result",
          "data": {
            "text/plain": [
              "         id               keyword                        location  \\\n",
              "7192  10304                weapon                         MI - CA   \n",
              "1717   2478              collided                             NaN   \n",
              "22       33                   NaN                             NaN   \n",
              "4820   6861         mass%20murder      i'm a Citizen of the World   \n",
              "4601   6543                injury                  Sacramento, CA   \n",
              "...     ...                   ...                             ...   \n",
              "3235   4644  emergency%20services            Park Ridge, Illinois   \n",
              "1056   1525           body%20bags                             NaN   \n",
              "3850   5479                flames                            hell   \n",
              "4510   6410             hurricane  Somewhere Powerbraking A Chevy   \n",
              "3444   4922              exploded                             USA   \n",
              "\n",
              "                                                   text  target  \n",
              "7192  iranian warship points weapon us helicopter of...       1  \n",
              "1717  2 cars right front collided hadnt stopped time...       1  \n",
              "22                                          love skiing       0  \n",
              "4820  abortion murder blowjobs cannibalism masturbat...       1  \n",
              "4601  traffic collision  injury  i5 i5 43rd ave offr...       1  \n",
              "...                                                 ...     ...  \n",
              "3235  doctors nurses new pediatric emergency departm...       0  \n",
              "1056  zicac vintage leather briefcase messenger satc...       0  \n",
              "3850   gilderoy wish good enough add flames nails im...       1  \n",
              "4510                          freegeezy17 stay houston        0  \n",
              "3444  dress memes officially exploded internet http ...       0  \n",
              "\n",
              "[762 rows x 5 columns]"
            ],
            "text/html": [
              "\n",
              "  <div id=\"df-6efb0ae0-3a86-4cca-800a-50c9e2553b3f\" class=\"colab-df-container\">\n",
              "    <div>\n",
              "<style scoped>\n",
              "    .dataframe tbody tr th:only-of-type {\n",
              "        vertical-align: middle;\n",
              "    }\n",
              "\n",
              "    .dataframe tbody tr th {\n",
              "        vertical-align: top;\n",
              "    }\n",
              "\n",
              "    .dataframe thead th {\n",
              "        text-align: right;\n",
              "    }\n",
              "</style>\n",
              "<table border=\"1\" class=\"dataframe\">\n",
              "  <thead>\n",
              "    <tr style=\"text-align: right;\">\n",
              "      <th></th>\n",
              "      <th>id</th>\n",
              "      <th>keyword</th>\n",
              "      <th>location</th>\n",
              "      <th>text</th>\n",
              "      <th>target</th>\n",
              "    </tr>\n",
              "  </thead>\n",
              "  <tbody>\n",
              "    <tr>\n",
              "      <th>7192</th>\n",
              "      <td>10304</td>\n",
              "      <td>weapon</td>\n",
              "      <td>MI - CA</td>\n",
              "      <td>iranian warship points weapon us helicopter of...</td>\n",
              "      <td>1</td>\n",
              "    </tr>\n",
              "    <tr>\n",
              "      <th>1717</th>\n",
              "      <td>2478</td>\n",
              "      <td>collided</td>\n",
              "      <td>NaN</td>\n",
              "      <td>2 cars right front collided hadnt stopped time...</td>\n",
              "      <td>1</td>\n",
              "    </tr>\n",
              "    <tr>\n",
              "      <th>22</th>\n",
              "      <td>33</td>\n",
              "      <td>NaN</td>\n",
              "      <td>NaN</td>\n",
              "      <td>love skiing</td>\n",
              "      <td>0</td>\n",
              "    </tr>\n",
              "    <tr>\n",
              "      <th>4820</th>\n",
              "      <td>6861</td>\n",
              "      <td>mass%20murder</td>\n",
              "      <td>i'm a Citizen of the World</td>\n",
              "      <td>abortion murder blowjobs cannibalism masturbat...</td>\n",
              "      <td>1</td>\n",
              "    </tr>\n",
              "    <tr>\n",
              "      <th>4601</th>\n",
              "      <td>6543</td>\n",
              "      <td>injury</td>\n",
              "      <td>Sacramento, CA</td>\n",
              "      <td>traffic collision  injury  i5 i5 43rd ave offr...</td>\n",
              "      <td>1</td>\n",
              "    </tr>\n",
              "    <tr>\n",
              "      <th>...</th>\n",
              "      <td>...</td>\n",
              "      <td>...</td>\n",
              "      <td>...</td>\n",
              "      <td>...</td>\n",
              "      <td>...</td>\n",
              "    </tr>\n",
              "    <tr>\n",
              "      <th>3235</th>\n",
              "      <td>4644</td>\n",
              "      <td>emergency%20services</td>\n",
              "      <td>Park Ridge, Illinois</td>\n",
              "      <td>doctors nurses new pediatric emergency departm...</td>\n",
              "      <td>0</td>\n",
              "    </tr>\n",
              "    <tr>\n",
              "      <th>1056</th>\n",
              "      <td>1525</td>\n",
              "      <td>body%20bags</td>\n",
              "      <td>NaN</td>\n",
              "      <td>zicac vintage leather briefcase messenger satc...</td>\n",
              "      <td>0</td>\n",
              "    </tr>\n",
              "    <tr>\n",
              "      <th>3850</th>\n",
              "      <td>5479</td>\n",
              "      <td>flames</td>\n",
              "      <td>hell</td>\n",
              "      <td>gilderoy wish good enough add flames nails im...</td>\n",
              "      <td>1</td>\n",
              "    </tr>\n",
              "    <tr>\n",
              "      <th>4510</th>\n",
              "      <td>6410</td>\n",
              "      <td>hurricane</td>\n",
              "      <td>Somewhere Powerbraking A Chevy</td>\n",
              "      <td>freegeezy17 stay houston</td>\n",
              "      <td>0</td>\n",
              "    </tr>\n",
              "    <tr>\n",
              "      <th>3444</th>\n",
              "      <td>4922</td>\n",
              "      <td>exploded</td>\n",
              "      <td>USA</td>\n",
              "      <td>dress memes officially exploded internet http ...</td>\n",
              "      <td>0</td>\n",
              "    </tr>\n",
              "  </tbody>\n",
              "</table>\n",
              "<p>762 rows × 5 columns</p>\n",
              "</div>\n",
              "    <div class=\"colab-df-buttons\">\n",
              "\n",
              "  <div class=\"colab-df-container\">\n",
              "    <button class=\"colab-df-convert\" onclick=\"convertToInteractive('df-6efb0ae0-3a86-4cca-800a-50c9e2553b3f')\"\n",
              "            title=\"Convert this dataframe to an interactive table.\"\n",
              "            style=\"display:none;\">\n",
              "\n",
              "  <svg xmlns=\"http://www.w3.org/2000/svg\" height=\"24px\" viewBox=\"0 -960 960 960\">\n",
              "    <path d=\"M120-120v-720h720v720H120Zm60-500h600v-160H180v160Zm220 220h160v-160H400v160Zm0 220h160v-160H400v160ZM180-400h160v-160H180v160Zm440 0h160v-160H620v160ZM180-180h160v-160H180v160Zm440 0h160v-160H620v160Z\"/>\n",
              "  </svg>\n",
              "    </button>\n",
              "\n",
              "  <style>\n",
              "    .colab-df-container {\n",
              "      display:flex;\n",
              "      gap: 12px;\n",
              "    }\n",
              "\n",
              "    .colab-df-convert {\n",
              "      background-color: #E8F0FE;\n",
              "      border: none;\n",
              "      border-radius: 50%;\n",
              "      cursor: pointer;\n",
              "      display: none;\n",
              "      fill: #1967D2;\n",
              "      height: 32px;\n",
              "      padding: 0 0 0 0;\n",
              "      width: 32px;\n",
              "    }\n",
              "\n",
              "    .colab-df-convert:hover {\n",
              "      background-color: #E2EBFA;\n",
              "      box-shadow: 0px 1px 2px rgba(60, 64, 67, 0.3), 0px 1px 3px 1px rgba(60, 64, 67, 0.15);\n",
              "      fill: #174EA6;\n",
              "    }\n",
              "\n",
              "    .colab-df-buttons div {\n",
              "      margin-bottom: 4px;\n",
              "    }\n",
              "\n",
              "    [theme=dark] .colab-df-convert {\n",
              "      background-color: #3B4455;\n",
              "      fill: #D2E3FC;\n",
              "    }\n",
              "\n",
              "    [theme=dark] .colab-df-convert:hover {\n",
              "      background-color: #434B5C;\n",
              "      box-shadow: 0px 1px 3px 1px rgba(0, 0, 0, 0.15);\n",
              "      filter: drop-shadow(0px 1px 2px rgba(0, 0, 0, 0.3));\n",
              "      fill: #FFFFFF;\n",
              "    }\n",
              "  </style>\n",
              "\n",
              "    <script>\n",
              "      const buttonEl =\n",
              "        document.querySelector('#df-6efb0ae0-3a86-4cca-800a-50c9e2553b3f button.colab-df-convert');\n",
              "      buttonEl.style.display =\n",
              "        google.colab.kernel.accessAllowed ? 'block' : 'none';\n",
              "\n",
              "      async function convertToInteractive(key) {\n",
              "        const element = document.querySelector('#df-6efb0ae0-3a86-4cca-800a-50c9e2553b3f');\n",
              "        const dataTable =\n",
              "          await google.colab.kernel.invokeFunction('convertToInteractive',\n",
              "                                                    [key], {});\n",
              "        if (!dataTable) return;\n",
              "\n",
              "        const docLinkHtml = 'Like what you see? Visit the ' +\n",
              "          '<a target=\"_blank\" href=https://colab.research.google.com/notebooks/data_table.ipynb>data table notebook</a>'\n",
              "          + ' to learn more about interactive tables.';\n",
              "        element.innerHTML = '';\n",
              "        dataTable['output_type'] = 'display_data';\n",
              "        await google.colab.output.renderOutput(dataTable, element);\n",
              "        const docLink = document.createElement('div');\n",
              "        docLink.innerHTML = docLinkHtml;\n",
              "        element.appendChild(docLink);\n",
              "      }\n",
              "    </script>\n",
              "  </div>\n",
              "\n",
              "\n",
              "<div id=\"df-3f2d667f-760b-4622-aaab-02faf64ecc94\">\n",
              "  <button class=\"colab-df-quickchart\" onclick=\"quickchart('df-3f2d667f-760b-4622-aaab-02faf64ecc94')\"\n",
              "            title=\"Suggest charts.\"\n",
              "            style=\"display:none;\">\n",
              "\n",
              "<svg xmlns=\"http://www.w3.org/2000/svg\" height=\"24px\"viewBox=\"0 0 24 24\"\n",
              "     width=\"24px\">\n",
              "    <g>\n",
              "        <path d=\"M19 3H5c-1.1 0-2 .9-2 2v14c0 1.1.9 2 2 2h14c1.1 0 2-.9 2-2V5c0-1.1-.9-2-2-2zM9 17H7v-7h2v7zm4 0h-2V7h2v10zm4 0h-2v-4h2v4z\"/>\n",
              "    </g>\n",
              "</svg>\n",
              "  </button>\n",
              "\n",
              "<style>\n",
              "  .colab-df-quickchart {\n",
              "      --bg-color: #E8F0FE;\n",
              "      --fill-color: #1967D2;\n",
              "      --hover-bg-color: #E2EBFA;\n",
              "      --hover-fill-color: #174EA6;\n",
              "      --disabled-fill-color: #AAA;\n",
              "      --disabled-bg-color: #DDD;\n",
              "  }\n",
              "\n",
              "  [theme=dark] .colab-df-quickchart {\n",
              "      --bg-color: #3B4455;\n",
              "      --fill-color: #D2E3FC;\n",
              "      --hover-bg-color: #434B5C;\n",
              "      --hover-fill-color: #FFFFFF;\n",
              "      --disabled-bg-color: #3B4455;\n",
              "      --disabled-fill-color: #666;\n",
              "  }\n",
              "\n",
              "  .colab-df-quickchart {\n",
              "    background-color: var(--bg-color);\n",
              "    border: none;\n",
              "    border-radius: 50%;\n",
              "    cursor: pointer;\n",
              "    display: none;\n",
              "    fill: var(--fill-color);\n",
              "    height: 32px;\n",
              "    padding: 0;\n",
              "    width: 32px;\n",
              "  }\n",
              "\n",
              "  .colab-df-quickchart:hover {\n",
              "    background-color: var(--hover-bg-color);\n",
              "    box-shadow: 0 1px 2px rgba(60, 64, 67, 0.3), 0 1px 3px 1px rgba(60, 64, 67, 0.15);\n",
              "    fill: var(--button-hover-fill-color);\n",
              "  }\n",
              "\n",
              "  .colab-df-quickchart-complete:disabled,\n",
              "  .colab-df-quickchart-complete:disabled:hover {\n",
              "    background-color: var(--disabled-bg-color);\n",
              "    fill: var(--disabled-fill-color);\n",
              "    box-shadow: none;\n",
              "  }\n",
              "\n",
              "  .colab-df-spinner {\n",
              "    border: 2px solid var(--fill-color);\n",
              "    border-color: transparent;\n",
              "    border-bottom-color: var(--fill-color);\n",
              "    animation:\n",
              "      spin 1s steps(1) infinite;\n",
              "  }\n",
              "\n",
              "  @keyframes spin {\n",
              "    0% {\n",
              "      border-color: transparent;\n",
              "      border-bottom-color: var(--fill-color);\n",
              "      border-left-color: var(--fill-color);\n",
              "    }\n",
              "    20% {\n",
              "      border-color: transparent;\n",
              "      border-left-color: var(--fill-color);\n",
              "      border-top-color: var(--fill-color);\n",
              "    }\n",
              "    30% {\n",
              "      border-color: transparent;\n",
              "      border-left-color: var(--fill-color);\n",
              "      border-top-color: var(--fill-color);\n",
              "      border-right-color: var(--fill-color);\n",
              "    }\n",
              "    40% {\n",
              "      border-color: transparent;\n",
              "      border-right-color: var(--fill-color);\n",
              "      border-top-color: var(--fill-color);\n",
              "    }\n",
              "    60% {\n",
              "      border-color: transparent;\n",
              "      border-right-color: var(--fill-color);\n",
              "    }\n",
              "    80% {\n",
              "      border-color: transparent;\n",
              "      border-right-color: var(--fill-color);\n",
              "      border-bottom-color: var(--fill-color);\n",
              "    }\n",
              "    90% {\n",
              "      border-color: transparent;\n",
              "      border-bottom-color: var(--fill-color);\n",
              "    }\n",
              "  }\n",
              "</style>\n",
              "\n",
              "  <script>\n",
              "    async function quickchart(key) {\n",
              "      const quickchartButtonEl =\n",
              "        document.querySelector('#' + key + ' button');\n",
              "      quickchartButtonEl.disabled = true;  // To prevent multiple clicks.\n",
              "      quickchartButtonEl.classList.add('colab-df-spinner');\n",
              "      try {\n",
              "        const charts = await google.colab.kernel.invokeFunction(\n",
              "            'suggestCharts', [key], {});\n",
              "      } catch (error) {\n",
              "        console.error('Error during call to suggestCharts:', error);\n",
              "      }\n",
              "      quickchartButtonEl.classList.remove('colab-df-spinner');\n",
              "      quickchartButtonEl.classList.add('colab-df-quickchart-complete');\n",
              "    }\n",
              "    (() => {\n",
              "      let quickchartButtonEl =\n",
              "        document.querySelector('#df-3f2d667f-760b-4622-aaab-02faf64ecc94 button');\n",
              "      quickchartButtonEl.style.display =\n",
              "        google.colab.kernel.accessAllowed ? 'block' : 'none';\n",
              "    })();\n",
              "  </script>\n",
              "</div>\n",
              "    </div>\n",
              "  </div>\n"
            ]
          },
          "metadata": {},
          "execution_count": 55
        }
      ]
    },
    {
      "cell_type": "code",
      "source": [
        "# Load test data (assuming you have a test DataFrame called test_df)\n",
        "test_data = tf.data.Dataset.from_tensor_slices(valid_df['text'].values)\n",
        "\n",
        "# Preprocess the test data\n",
        "def preprocess_test_data(text):\n",
        "    input_ids, input_mask, segment_ids, _ = tf.py_function(\n",
        "        to_feature,\n",
        "        inp=[text, 0],  # Use a dummy label of 0, as labels are not available\n",
        "        Tout=[tf.int32, tf.int32, tf.int32, tf.int32]\n",
        "    )\n",
        "\n",
        "    input_ids.set_shape([max_seq_length])\n",
        "    input_mask.set_shape([max_seq_length])\n",
        "    segment_ids.set_shape([max_seq_length])\n",
        "\n",
        "    x = {\n",
        "        'input_word_ids': input_ids,\n",
        "        \"input_mask\": input_mask,\n",
        "        \"input_type_ids\": segment_ids\n",
        "    }\n",
        "\n",
        "    return x\n",
        "\n",
        "# Preprocess the test data\n",
        "test_data = (\n",
        "    test_data.map(preprocess_test_data, num_parallel_calls=tf.data.experimental.AUTOTUNE)\n",
        "    .batch(32)\n",
        "    .prefetch(tf.data.experimental.AUTOTUNE)\n",
        ")\n",
        "\n",
        "# Make predictions on the test data\n",
        "predictions = model.predict(test_data)\n",
        "\n",
        "# 'predictions' now contains the predicted probabilities for each test example\n"
      ],
      "metadata": {
        "colab": {
          "base_uri": "https://localhost:8080/"
        },
        "id": "gx_zf3Homrcw",
        "outputId": "0654e05a-d42c-4428-f70c-f042c4fa4960"
      },
      "execution_count": 69,
      "outputs": [
        {
          "output_type": "stream",
          "name": "stdout",
          "text": [
            "24/24 [==============================] - 2s 106ms/step\n"
          ]
        }
      ]
    },
    {
      "cell_type": "code",
      "source": [
        "from sklearn.metrics import confusion_matrix"
      ],
      "metadata": {
        "id": "7kn-z9PEo8Qn"
      },
      "execution_count": 57,
      "outputs": []
    },
    {
      "cell_type": "code",
      "source": [
        "def label(x):\n",
        "      if x > 0.5: return 1\n",
        "      else: return 0\n",
        "predict_labels = np.array([label(p) for p in predictions])\n",
        "actual_labels = valid_df.target.values"
      ],
      "metadata": {
        "id": "vqqkEtXmm4eB"
      },
      "execution_count": 70,
      "outputs": []
    },
    {
      "cell_type": "code",
      "source": [
        "confusion_matrix(actual_labels,predict_labels)"
      ],
      "metadata": {
        "colab": {
          "base_uri": "https://localhost:8080/"
        },
        "id": "2MYQUDx5naAy",
        "outputId": "9e1ea095-2d01-4c8c-fdfc-dbd10d8c3983"
      },
      "execution_count": 71,
      "outputs": [
        {
          "output_type": "execute_result",
          "data": {
            "text/plain": [
              "array([[375,  67],\n",
              "       [120, 200]])"
            ]
          },
          "metadata": {},
          "execution_count": 71
        }
      ]
    },
    {
      "cell_type": "code",
      "source": [
        "import seaborn"
      ],
      "metadata": {
        "id": "ddnnfYmyqgUS"
      },
      "execution_count": 72,
      "outputs": []
    },
    {
      "cell_type": "code",
      "source": [
        "seaborn.heatmap(confusion_matrix(actual_labels,predict_labels))"
      ],
      "metadata": {
        "colab": {
          "base_uri": "https://localhost:8080/",
          "height": 447
        },
        "id": "9MKNNl0dqiRc",
        "outputId": "6ad3df86-1f1b-45ae-fdca-07b5d91128a1"
      },
      "execution_count": 73,
      "outputs": [
        {
          "output_type": "execute_result",
          "data": {
            "text/plain": [
              "<Axes: >"
            ]
          },
          "metadata": {},
          "execution_count": 73
        },
        {
          "output_type": "display_data",
          "data": {
            "text/plain": [
              "<Figure size 640x480 with 2 Axes>"
            ],
            "image/png": "[encoded data removed]"
          },
          "metadata": {}
        }
      ]
    },
    {
      "cell_type": "code",
      "source": [
        "from sklearn.metrics import confusion_matrix, accuracy_score, precision_score, recall_score, f1_score\n",
        "\n",
        "def calculate_metrics(actual_labels, predicted_labels):\n",
        "    # Compute confusion matrix\n",
        "    cm = confusion_matrix(actual_labels, predicted_labels)\n",
        "\n",
        "    # Calculate accuracy\n",
        "    accuracy = accuracy_score(actual_labels, predicted_labels)\n",
        "\n",
        "    # Calculate precision\n",
        "    precision = precision_score(actual_labels, predicted_labels)\n",
        "\n",
        "    # Calculate recall\n",
        "    recall = recall_score(actual_labels, predicted_labels)\n",
        "\n",
        "    # Calculate F1-score\n",
        "    f1 = f1_score(actual_labels, predicted_labels)\n",
        "\n",
        "    # Create a dictionary to store the metrics\n",
        "    metrics = {\n",
        "        \"Confusion_Matrix\": cm,\n",
        "        \"Accuracy\": accuracy,\n",
        "        \"Precision\": precision,\n",
        "        \"Recall\": recall,\n",
        "        \"F1-Score\": f1\n",
        "    }\n",
        "\n",
        "    return metrics\n",
        "\n",
        "metrics = calculate_metrics(actual_labels, predict_labels)\n",
        "print(metrics)\n"
      ],
      "metadata": {
        "colab": {
          "base_uri": "https://localhost:8080/"
        },
        "id": "YVumvDKpq36y",
        "outputId": "2563def0-d1f2-4003-eea0-716efdac6ba9"
      },
      "execution_count": 75,
      "outputs": [
        {
          "output_type": "stream",
          "name": "stdout",
          "text": [
            "{'Confusion_Matrix': array([[375,  67],\n",
            "       [120, 200]]), 'Accuracy': 0.7545931758530183, 'Precision': 0.7490636704119851, 'Recall': 0.625, 'F1-Score': 0.6814310051107325}\n"
          ]
        }
      ]
    }
  ],
  "metadata": {
    "kernelspec": {
      "display_name": "Python 3",
      "name": "python3"
    },
    "language_info": {
      "codemirror_mode": {
        "name": "ipython",
        "version": 3
      },
      "file_extension": ".py",
      "mimetype": "text/x-python",
      "name": "python",
      "nbconvert_exporter": "python",
      "pygments_lexer": "ipython3",
      "version": "3.11.4"
    },
    "orig_nbformat": 4,
    "colab": {
      "provenance": [],
      "gpuType": "T4",
      "include_colab_link": true
    },
    "accelerator": "GPU"
  },
  "nbformat": 4,
  "nbformat_minor": 0
}